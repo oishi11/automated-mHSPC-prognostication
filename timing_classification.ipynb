{
 "cells": [
  {
   "cell_type": "code",
   "execution_count": null,
   "id": "62a04d67-2827-4404-bee7-5fd7e6292443",
   "metadata": {
    "tags": []
   },
   "outputs": [],
   "source": [
    "import pandas as pd\n",
    "import re\n",
    "import ast\n",
    "import time\n",
    "import datetime\n",
    "from shared_functions import get_access_token, call_gpt_with_prompt"
   ]
  },
  {
   "cell_type": "markdown",
   "id": "233dbfaa-5f24-4bd3-8d4d-fc50b6e50ffd",
   "metadata": {
    "tags": []
   },
   "source": [
    "## Helper functions"
   ]
  },
  {
   "cell_type": "code",
   "execution_count": null,
   "id": "f60ba5cd-ba3c-4a9c-a526-ed558e691695",
   "metadata": {
    "tags": []
   },
   "outputs": [],
   "source": [
    "# string_to_date_convertor() can convert differently formatted string dates to datetime \n",
    "def string_to_date_convertor(string):\n",
    "    if re.match(r'\\d{1,2}\\/\\d{1,2}\\/\\d{4}', string, re.IGNORECASE):\n",
    "        datetime_from_string = datetime.datetime.strptime(string, '%m/%d/%Y')\n",
    "    elif re.match(r'\\d{1,2}-\\d{1,2}-\\d{4}', string, re.IGNORECASE):\n",
    "        datetime_from_string = datetime.datetime.strptime(string, '%m-%d-%Y')\n",
    "    elif re.match(r'\\d{1,2}-\\d{1,2}\\/\\d{4}', string, re.IGNORECASE):\n",
    "        datetime_from_string = datetime.datetime.strptime(string, '%m-%d/%Y')\n",
    "    elif re.match(r'\\d{1,2}\\/\\d{1,2}\\/\\d{1,2}', string, re.IGNORECASE):\n",
    "        try:\n",
    "            datetime_from_string = datetime.datetime.strptime(string, '%m/%d/%y')\n",
    "        except:\n",
    "            datetime_from_string = datetime.datetime.strptime(string, '%y/%m/%d')\n",
    "    elif re.match(r'\\d{1,2}-\\d{1,2}-\\d{1,2}', string, re.IGNORECASE):\n",
    "        try:\n",
    "            datetime_from_string = datetime.datetime.strptime(string, '%m-%d-%y')\n",
    "        except:\n",
    "            datetime_from_string = datetime.datetime.strptime(string, '%y-%m-%d')\n",
    "    elif re.match(r'\\d{1,2}-\\d{1,2}\\/\\d{1,2}', string, re.IGNORECASE):\n",
    "        datetime_from_string = datetime.datetime.strptime(string, '%y-%m/%d')\n",
    "    elif re.match(r'\\d{4}-\\d{1,2}-\\d{1,2}', string, re.IGNORECASE):\n",
    "        datetime_from_string = datetime.datetime.strptime(string, '%Y-%m-%d')\n",
    "    date_from_datetime = datetime_from_string.date()\n",
    "    return date_from_datetime"
   ]
  },
  {
   "cell_type": "code",
   "execution_count": null,
   "id": "3a63ed89-a67f-40e4-bfff-72b7e3a830ca",
   "metadata": {
    "tags": []
   },
   "outputs": [],
   "source": [
    "# regex_search() searches for a specific string (regex_string) inside another string (original string)\n",
    "def regex_search(regex_string, original_string):\n",
    "    return re.search(regex_string, original_string, re.IGNORECASE)"
   ]
  },
  {
   "cell_type": "code",
   "execution_count": null,
   "id": "00ef55a2-8bed-4df2-ab30-15c78455e3d6",
   "metadata": {
    "tags": []
   },
   "outputs": [],
   "source": [
    "# check_for_distant_mets() takes in a list of metastatic sites (which in this case is outputted by GPT-4 in a specific format) \n",
    "# returns True if there is >=1 distant metastatic site within that list\n",
    "# returns False if there are no distant metastatic sites (only regional metastatic sites)\n",
    "def check_for_distant_mets(llm_output):\n",
    "    mets_list = llm_output.strip('[]').split(', ')\n",
    "    distant_check = False\n",
    "    for i in range(len(mets_list)):\n",
    "        if not (regex_search('prost', mets_list[i]) or\n",
    "                regex_search('seminal', mets_list[i]) or regex_search('ureter', mets_list[i]) or\n",
    "                regex_search('urethra', mets_list[i]) or regex_search('rectum', mets_list[i]) or\n",
    "                regex_search('bladder', mets_list[i]) or regex_search('levator', mets_list[i]) or\n",
    "                (regex_search('pelvis', mets_list[i]) and regex_search('lymph', mets_list[i])) or\n",
    "                (regex_search('pelvis', mets_list[i]) and regex_search('node', mets_list[i])) or\n",
    "                (regex_search('pelvic', mets_list[i]) and regex_search('wall', mets_list[i])) or\n",
    "                (regex_search('pelvic', mets_list[i]) and regex_search('node', mets_list[i])) or \n",
    "                (regex_search('pelvic', mets_list[i]) and regex_search('nodal', mets_list[i])) or\n",
    "                regex_search('vesical', mets_list[i]) or\n",
    "                regex_search('obturator', mets_list[i]) or regex_search('rectal', mets_list[i]) or\n",
    "                (regex_search('iliac', mets_list[i]) and not regex_search('common', mets_list[i]) and not regex_search('bone', mets_list[i]) and not \n",
    "                regex_search('crest', mets_list[i]) and not regex_search('sacro', mets_list[i]) and not regex_search('joint', mets_list[i]) and not\n",
    "                regex_search('wing', mets_list[i])) or\n",
    "                regex_search('hypogastric', mets_list[i]) or\n",
    "                regex_search('sacral', mets_list[i]) or regex_search('promontory', mets_list[i]) or\n",
    "                regex_search('gerota', mets_list[i]) or\n",
    "                regex_search('nodal', mets_list[i]) or regex_search('pelvic adenopathy', mets_list[i])):\n",
    "            distant_check = True\n",
    "            break\n",
    "    return distant_check"
   ]
  },
  {
   "cell_type": "markdown",
   "id": "5558140a-c262-456d-8a82-4e41e9fe494e",
   "metadata": {
    "tags": []
   },
   "source": [
    "## Identifying the index metastasis report and determining timing classification"
   ]
  },
  {
   "cell_type": "markdown",
   "id": "9fb2b6ca-d919-409b-ac79-2c12ebf13017",
   "metadata": {
    "tags": []
   },
   "source": [
    "### __Dataframe creation__"
   ]
  },
  {
   "cell_type": "markdown",
   "id": "6a408343-571e-4da9-befc-3cdbdedca322",
   "metadata": {
    "tags": []
   },
   "source": [
    "Prior to this step, we ran various SQL queries to pull patient data from the Mayo Clinic Cloud platform, through which we obtained\n",
    "1) PCa Diagnosis Date from a diagnostic pathology report\n",
    "2) All eligible [CT, NM Bone] radiology reports (within 45 days before and any time after the date of the diagnostic pathology report)\n",
    "\n",
    "With this information, we created a dataframe __rad_report_df__, in which each row contains respective patient information and one radiology report. For example, if a patient had 2 radiology reports, that patients would have two rows in the df. For each patient that has multiple radiology reports, the \"Rad Report Text\" column would be the only one that differs.\n",
    "\n",
    "| Patient MRN | PCa Diagnosis Date | Rad Report Date | Rad Report Text|\n",
    "|------|------|------|------|\n",
    "| XXXXXXX | MM/DD/YYYY | MM/DD/YYYY | \"Rad report text\"|\n",
    "\n",
    "__Patient MRN__: Patient identifier\n",
    "\n",
    "__PCa Diagnosis Date__: Date of prostate cancer diagnosis\n",
    "\n",
    "__Rad Report Date__: Date of radiology report\n",
    "\n",
    "__Rad Report Text__: Text of radiology report"
   ]
  },
  {
   "cell_type": "markdown",
   "id": "0dff7f7b-6aa9-4a0b-9ff6-5eae42f40aa1",
   "metadata": {
    "tags": []
   },
   "source": [
    "### __Index metastasis identification and timing classification:__"
   ]
  },
  {
   "cell_type": "markdown",
   "id": "0577403c-f0ad-4904-aefe-330d392d4158",
   "metadata": {},
   "source": [
    "For each patient, the index metastasis report is the first eligible radiology report that shows evidence of distant metastasis from prostate cancer. The date of this report is indicated as the \"index metastasis date\".\n",
    "\n",
    "In order to find the index metastasis report, we looped through the rad_report_df to check the radiology report texts in chronological order for each patient. We did this via a two step pipeline.\n",
    "\n",
    "The first step utilized GPT-4 zero-shot prompting to extract all sites of metastasis (regional and distant) from a report in the form of a list. \n",
    "\n",
    "In the second step, this list is fed to a rule-based programming algorithm to check for presence of distant metastasis specifically.\n",
    "\n",
    "The first report to show distant metastasis is then the index metastasis report, and the loop moves on to the next patient.\n",
    "\n",
    "Once we know the index metastasis date, we can compare to the PCa diagnosis date in order to obtain the timing classification. We used a simple rule-based programming algorithm in which if metastasis occurred within 6 months of diagnosis, timing is __synchronous__. If metastasis occurs later than 6 months after diagnosis, timing is __metachronous__.\n",
    "\n",
    "We constructed a new empty dataframe called __timing_df__, which can be filled once we know from our pipeline, which radiology report for each patient is the index metastasis report.\n",
    "\n",
    "| Patient MRN | PCa Diagnosis Date | Index Metastasis Date | Timing |\n",
    "|------|------|------|------|\n",
    "| XXXXXXX | MM/DD/YYYY | MM/DD/YYYY | S or M|\n",
    "\n",
    "__Patient MRN__: Patient identifier\n",
    "\n",
    "__PCa Diagnosis Date__: Date of prostate cancer diagnosis\n",
    "\n",
    "__Index Metastasis Date__: Date of index metastasis report\n",
    "\n",
    "__Timing__: S or M (synchronous or metachronous; determined using a quick rule-based programming algorithm incorporating diagnosis date and index metastasis date)\n",
    "\n",
    "We fill in the timing_df using identify_metastasic_sites(), which incorporates both steps of the pipeline mentioned above."
   ]
  },
  {
   "cell_type": "code",
   "execution_count": null,
   "id": "4890822a-6bb5-47fb-a2ba-5393af7958ec",
   "metadata": {
    "tags": []
   },
   "outputs": [],
   "source": [
    "def identify_metastatic_sites(rad_report_df):\n",
    "    token = get_access_token()\n",
    "    \n",
    "    # Create empty timing_df to be filled in for each patient\n",
    "    timing_df = pd.DataFrame(columns = ['Patient MRN', 'PCa Diagnosis Date', 'Index Metastasis Date', 'Timing'])\n",
    "    \n",
    "    # Initializing prev_patient_mrn as 0, since there are no previous patient mrns until we get to the second patient mrn in the dataframe \n",
    "    prev_patient_mrn = 0\n",
    "    \n",
    "    for index, row in rad_report_df.iterrows():\n",
    "        \n",
    "        patient_mrn = row['Patient MRN']\n",
    "        cancer_dx_date = string_to_date_convertor(row['PCa Diagnosis Date'])\n",
    "        rad_report_date = string_to_date_convertor(row['Rad Report Date'])\n",
    "        \n",
    "        if patient_mrn == prev_patient_mrn:\n",
    "            continue\n",
    "\n",
    "        report_string = row['Rad Report Text']\n",
    "\n",
    "        prompt_string = \"\"\"\n",
    "        Based on the report, if there is prostate cancer metastasis, \n",
    "        output a list of the sites of metastasis (also referred to as lesion, adenopathy) in the following format: \n",
    "        ['site 1', 'site 2', 'site 3', 'site 4', 'site 5', ...].\n",
    "        If there are no sites of prostate cancer metastasis, output N/A.\n",
    "        If there is no information on prostate cancer metastasis, output N/A.\n",
    "        Only add a site of metastasis to the list if the report mentions a high or definite likelihood of metastasis to that site.\n",
    "        For each site, do not assume metastasis if there are words that indicate uncertainty, such as 'indeterminate', 'possible', 'may', 'could', 'potential'.\n",
    "        For each site, do not assume metastasis if there is only uncertain indication of metastasis such as 'faint choline activity', \n",
    "        'nonspecific', 'increased uptake', 'prominent lymph node'.\n",
    "        Strictly follow the given output formats. Do not provide any additional explanation.\n",
    "        \"\"\"\n",
    "        \n",
    "        system_content = \"Being an oncologist with specific expertise in prostate cancer, identify presence of metastasis from prostate cancer.\"\n",
    "        \n",
    "        user_content = f\"Here is a radiology report of a patient with prostate cancer: {report_string}. \" \\\n",
    "        f\"{prompt_string}\"\n",
    "                \n",
    "        output = call_gpt_with_prompt(system_content, user_content, token)\n",
    "\n",
    "        # Re-fetch access token in case it expires before the for loop completes.\n",
    "        if output == \"invalid response\":\n",
    "            time.sleep(2)\n",
    "            token1 = get_access_token()\n",
    "            output = call_gpt_with_prompt(system_content, user_content, token1)       \n",
    "        \n",
    "        if (output != 'N/A' and output != 'invalid response' and check_for_distant_mets(output)):\n",
    "            if rad_report_date - cancer_dx_date > datetime.timedelta(days = 183):\n",
    "                timing = 'M'\n",
    "            else:\n",
    "                timing = 'S'\n",
    "            new_row = pd.DataFrame([{'Patient MRN': patient_mrn, 'PCa Diagnosis Date': cancer_dx_date, 'Index Metastasis Date': rad_report_date, 'Timing': timing}])\n",
    "            timing_df = pd.concat([timing_df, new_row], ignore_index=True)\n",
    "            prev_patient_mrn = patient_mrn \n",
    "            \n",
    "    return timing_df"
   ]
  }
 ],
 "metadata": {
  "environment": {
   "kernel": "conda-base-py",
   "name": "workbench-notebooks.m127",
   "type": "gcloud",
   "uri": "us-docker.pkg.dev/deeplearning-platform-release/gcr.io/workbench-notebooks:m127"
  },
  "kernelspec": {
   "display_name": "Python 3 (ipykernel) (Local)",
   "language": "python",
   "name": "conda-base-py"
  },
  "language_info": {
   "codemirror_mode": {
    "name": "ipython",
    "version": 3
   },
   "file_extension": ".py",
   "mimetype": "text/x-python",
   "name": "python",
   "nbconvert_exporter": "python",
   "pygments_lexer": "ipython3",
   "version": "3.10.16"
  }
 },
 "nbformat": 4,
 "nbformat_minor": 5
}
