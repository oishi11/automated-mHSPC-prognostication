{
 "cells": [
  {
   "cell_type": "code",
   "execution_count": null,
   "id": "3c9baaac-b7b7-4d51-a1f5-5973a25a7407",
   "metadata": {
    "tags": []
   },
   "outputs": [],
   "source": [
    "import pandas as pd\n",
    "import json\n",
    "from shared_functions import get_access_token, call_gpt_with_prompt"
   ]
  },
  {
   "cell_type": "markdown",
   "id": "990bb5a3-dc07-464e-bdac-84f5065c33a2",
   "metadata": {
    "tags": []
   },
   "source": [
    "## Prompt Decomposition Level: None"
   ]
  },
  {
   "cell_type": "markdown",
   "id": "a2cd1565-1c91-46c7-be89-47cc2795ccff",
   "metadata": {},
   "source": [
    "Each dataframe row in none_pd_df represents information for one patient.\n",
    "\n",
    "__<u>Recommended dataframe columns</u>__\n",
    "\n",
    "__Patient MRN__: Patient identifier\n",
    "\n",
    "__Appended Eligible Rad Report Texts__: Complete eligible radiology report texts appended together (Index metastasis report text + text from subsequent eligible radiology reports within 30 days of index report)\n",
    "\n",
    "__Volume__: Volume classification of metastatic disease (High or Low); This is the output returned by GPT-4\n",
    "\n",
    "\n",
    "| Patient MRN | Appended Eligible Rad Report Texts | Volume |\n",
    "|------|------|------|\n",
    "| XXXXXXX | \"Appended text here\" | H or L |"
   ]
  },
  {
   "cell_type": "markdown",
   "id": "accad04e-a9c8-4f37-80a6-d22eee011f6f",
   "metadata": {},
   "source": [
    "The run_none_pd function uses GPT-4 to directly infer volume classification from all eligible radiology report texts."
   ]
  },
  {
   "cell_type": "code",
   "execution_count": null,
   "id": "6c5f8765-3df2-474a-972a-10675732aaa6",
   "metadata": {
    "tags": []
   },
   "outputs": [],
   "source": [
    "def run_none_pd(none_pd_df):\n",
    "    token = get_access_token()\n",
    "    for index, row in none_pd_df.iterrows():\n",
    "    \n",
    "        report_string = row['Appended Eligible Rad Report Texts']\n",
    "\n",
    "        prompt_string = \"\"\"\n",
    "        Based on the provided radiology report(s), \n",
    "        TASK: Identify if the report(s) indicate(s) evidence of high volume metastatic disease from prostate cancer. \n",
    "\n",
    "        Definition of high volume metastatic disease is the presence of distant visceral metastasis \n",
    "        or the presence of four or more bone metastatic lesions total with at least one of these metastatic lesions being outside of the vertebral column and pelvis.  \n",
    "\n",
    "        Disregard lymph node metastasis. \n",
    "        [Do not consider lymph adenopathy, lymph node enlargement, lymph node metastasis when defining high volume metastatic disease]. \n",
    "\n",
    "        Disregard sites of regional visceral metastasis (such as the prostate, bladder, urethra, ureter, seminal vesicles, rectum).\n",
    "\n",
    "        Output format: 'Yes' or 'No'.\n",
    "        Do not include any other information, even the question string, in the response. Strictly follow given output format.\n",
    "        \"\"\"\n",
    "        \n",
    "        # System content specifies the role that the LLM should take on.\n",
    "        system_content = \"Being an oncologist with specific expertise in prostate cancer, \" \\\n",
    "        \"classify the volume of disease for a patient with high or low volume metastatic prostate cancer.\" \n",
    "        \n",
    "        # User content specifies details of specific task instructions.\n",
    "        user_content =  f\"Here is a compilation of one or more radiology reports from a patient with metastatic prostate cancer.\" \\\n",
    "        f\"Each individual report is separated by '----------': {report_string}.\" \\\n",
    "        f\"{prompt_string}\"\n",
    "\n",
    "        output = call_gpt_with_prompt(system_content, user_content, token)\n",
    "\n",
    "        # Re-fetch access token in case it expires before the for loop completes.\n",
    "        if output == \"invalid response\":\n",
    "            time.sleep(2)\n",
    "            token1 = get_access_token()\n",
    "            output = call_gpt_with_prompt(system_content, user_content, token1)       \n",
    "\n",
    "        cleaned_output = output.strip().strip(\"'\").strip('\"')\n",
    "        if cleaned_output == 'Yes':\n",
    "            none_pd_df.loc[index, 'Volume'] = 'H'\n",
    "        elif cleaned_output == 'No':\n",
    "            none_pd_df.loc[index, 'Volume'] = 'L'\n",
    "        else:\n",
    "            none_pd_df.loc[index, 'Volume'] = f\"Output Format Error, Expected 'Yes' or 'No', Got: {output}\"            \n",
    "            \n",
    "    return none_pd_df"
   ]
  },
  {
   "cell_type": "markdown",
   "id": "8581ace1-ab2c-488a-8b21-4bf2c2e4ae68",
   "metadata": {},
   "source": [
    "<u>__Collaborative LLM Experiments__</u>\n",
    "\n",
    "The collaborative LLM experiments were run using the \"PD Level: None\" framework. Instead of utilizing GPT-4 only, we utilized the same prompt with Gemini-2.0-flash, as well as GPT-4o. \n",
    "\n",
    "For the collaborative LLM experiment using GPT-4 + Gemini-2.0-flash, we took volume classifications of consensus between these two LLMs and evaluated accuracy of these classifications.\n",
    "\n",
    "The same was done for the GPT-4 + GPT-4o collaborative experiment."
   ]
  },
  {
   "cell_type": "markdown",
   "id": "b06af80b-1e1d-47fe-bda8-cb0ad7d858ea",
   "metadata": {
    "tags": []
   },
   "source": [
    "## Prompt Decomposition Level: Low"
   ]
  },
  {
   "cell_type": "markdown",
   "id": "733d15f3-d0bb-49d0-b547-706e8ed744cf",
   "metadata": {},
   "source": [
    "Each dataframe row in low_pd_df represents information for one patient.\n",
    "\n",
    "<u>__Recommended dataframe columns__</u>\n",
    "\n",
    "__Patient MRN__: Patient identifier\n",
    "\n",
    "__Appended Eligible Rad Report Texts__: Complete eligible radiology report texts appended together (Index metastasis report text + text from subsequent eligible radiology reports within 30 days of index report)\n",
    "\n",
    "__Sites of Bone and Visceral Metastasis__: JSON formatted list of each bone metastatic site, with respective number of lesions at each site, and each visceral metastatic site across all eligible reports. This is the first ouput returned by GPT-4 in this framework.\n",
    "\n",
    "__Volume__: Volume classification of metastatic disease (High or Low); This is the final output returned by GPT-4\n",
    "\n",
    "\n",
    "| Patient MRN | Appended Eligible Rad Report Texts | Sites of Bone and Visceral Metastasis | Volume |\n",
    "|------|------|------|------|\n",
    "| XXXXXXX | \"Appended text here\" | {JSON formatted list of sites} | H or L |"
   ]
  },
  {
   "cell_type": "markdown",
   "id": "06d6eb0e-8c54-4456-a466-5cd99a426f15",
   "metadata": {
    "jp-MarkdownHeadingCollapsed": true,
    "tags": []
   },
   "source": [
    "### Prompt L1 - Identify sites of bone metastasis and sites of visceral metastasis."
   ]
  },
  {
   "cell_type": "markdown",
   "id": "a25d3840-03e1-4732-8efc-7803eeb70950",
   "metadata": {},
   "source": [
    "The run_low_pd_1 function uses GPT-4 to extract sites of bone metastasis and sites of visceral metastasis from all eligible radiology reports."
   ]
  },
  {
   "cell_type": "code",
   "execution_count": null,
   "id": "db0ce1bf-b53f-423b-adbf-051f881bbbe9",
   "metadata": {
    "tags": []
   },
   "outputs": [],
   "source": [
    "def run_low_pd_1(low_pd_df):\n",
    "    token = get_access_token()    \n",
    "    for index, row in low_pd_df.iterrows():\n",
    "\n",
    "        report_string = row['Appended Eligible Rad Report Texts']\n",
    "\n",
    "        prompt_string = \"\"\"\n",
    "        Based on the provided radiology report(s), \n",
    "        TASK: Firstly, identify the sites of bone metastasis and sites of distant visceral metastasis from prostate cancer. \n",
    "        Distinguish between bone metastasis within the vertebral column + pelvis and bone metastasis outside of the vertebral column + pelvis.\n",
    "        Secondly, identify an integer number of metastatic lesions at each bone metastatic site. \n",
    "        If the number of metastatic lesions are unclear but it is implied that there are multiple, then say \"multiple\".\n",
    "        Do not include any lymph nodes as sites of visceral metastasis.\n",
    "        Do not include regional sites of visceral metastasis (such as the prostate, bladder, urethra, ureter, seminal vesicles, rectum).\n",
    "        NOTE: Only include a site of metastasis if the report(s) indicate(s) a high or definite likelihood of metastasis to that site.\n",
    "\n",
    "        Output format: \n",
    "\n",
    "        Bone metastatic site within the vertebral column and pelvis #1: ___\n",
    "        Number of metastatic lesions at this site: ___\n",
    "\n",
    "        Bone metastatic site outside of the vertebral column and pelvis #1: ___\n",
    "        Number of metastatic lesions at this site: ___\n",
    "\n",
    "        Visceral metastatic site #1: ___\n",
    "\n",
    "        Example output #1: \n",
    "\n",
    "        Bone metastatic site within the vertebral column and pelvis #1: Left iliac crest\n",
    "        Number of metastatic lesions at this site: Multiple\n",
    "\n",
    "        Bone metastatic site within the vertebral column and pelvis #2: T12 vertebral body\n",
    "        Number of metastatic lesions at this site: 2\n",
    "\n",
    "        Bone metastatic site outside of the vertebral column and pelvis #1: Right humerus\n",
    "        Number of metastatic lesions at this site: 1\n",
    "\n",
    "        Visceral metastatic site #1: Upper lobe of right lung\n",
    "\n",
    "\n",
    "        If there is general mention of \"diffuse skeletal metastases\", then -\n",
    "\n",
    "        Example output #2: \n",
    "\n",
    "        Bone metastatic site within the vertebral column and pelvis #1: Diffuse skeletal metastases\n",
    "        Number of metastatic lesions at this site: multiple\n",
    "\n",
    "        Bone metastatic site outside of the vertebral column and pelvis #1: Diffuse skeletal metastases\n",
    "        Number of metastatic lesions at this site: multiple\n",
    "\n",
    "        Visceral metastatic site #1: none\n",
    "\n",
    "\n",
    "        If there are no bone or visceral metastatic sites, then -\n",
    "\n",
    "        Example output #3: \"There are no bone or visceral metastatic sites.\"\n",
    "\n",
    "\n",
    "        Do not include any other information, even the question string, in the response. Strictly follow the given output formats.\n",
    "        \"\"\"\n",
    "\n",
    "        system_content = \"Being an oncologist with specific expertise in prostate cancer, \" \\\n",
    "        \"identify sites of bone metastasis and visceral metastasis from prostate cancer.\"\n",
    "\n",
    "        user_content = \"Here is a compilation of one or more radiology reports from a patient with metastatic prostate cancer.\" \\\n",
    "        f\"Each individual report is separated by '----------': {report_string}.\" \\\n",
    "        f\"{prompt_string}\"\n",
    "\n",
    "        output = call_gpt_with_prompt(system_content, user_content, token)\n",
    "\n",
    "        if output == \"invalid response\":\n",
    "            time.sleep(2)\n",
    "            token1 = get_access_token()\n",
    "            output = call_gpt_with_prompt(system_content, user_content, token1)          \n",
    "\n",
    "        low_pd_df.loc[index, 'Sites of Bone and Visceral Metastasis'] = output       \n",
    "\n",
    "    return low_pd_df"
   ]
  },
  {
   "cell_type": "markdown",
   "id": "48607f21-15ae-4e29-b3e8-6ad30a3a4076",
   "metadata": {
    "tags": []
   },
   "source": [
    "### Prompt L2 - Using metastatic sites outputted from L1, classify as high or low volume."
   ]
  },
  {
   "cell_type": "markdown",
   "id": "aec36914-e7cf-4345-bdb3-8b50f7bf6698",
   "metadata": {},
   "source": [
    "The run_low_pd_2 function incorporates the first prompt (L1) of the \"PD: Low\" experimental framework for volume classification by GPT-4."
   ]
  },
  {
   "cell_type": "code",
   "execution_count": null,
   "id": "aa2257e4-2313-43d5-8db8-ef9f5c0c6121",
   "metadata": {
    "tags": []
   },
   "outputs": [],
   "source": [
    "def run_low_pd_2(low_pd_df):\n",
    "    token = get_access_token()\n",
    "    for index, row in low_pd_df.iterrows():\n",
    "\n",
    "        sites_string = row['Sites of Bone and Visceral Metastasis']\n",
    "\n",
    "        prompt_string = \"\"\"\n",
    "        TASK: Identify if the provided list of bone metastatic sites and visceral metastatic sites \n",
    "        indicate(s) evidence of high volume metastatic disease from prostate cancer. Go step by step.\n",
    "\n",
    "        Step 1: If there is a visceral metastatic site in the list, output is 'Yes'. Skip steps 2 and 3.\n",
    "\n",
    "        Step 2: If there is the presence of four or more bone metastatic lesions total with \n",
    "        at least one of these metastatic lesions being outside of the vertebral bodies and pelvis, output is 'Yes'. Skip step 3.\n",
    "\n",
    "        Step 3: If step 1 and 2 are 'No', then the output is 'No'.\n",
    "\n",
    "        Output format: 'Yes' or 'No'.\n",
    "        Do not include any other information, even the question string, in the response. Strictly follow given output format.\n",
    "        \"\"\"\n",
    "        system_content = \"Being an oncologist with specific expertise in prostate cancer, \" \\\n",
    "        \"classify the volume of disease for a patient with high or low volume metastatic prostate cancer.\" \n",
    "        \n",
    "        user_content = \"Here is a list of bone metastatic sites and visceral metastatic sites, \" \\\n",
    "        f\"alongside the number of metastatic lesions at each bone metastatic site: {sites_string}. \" \\\n",
    "        f\"{prompt_string}\"\n",
    "        \n",
    "        output = call_gpt_with_prompt(system_content, user_content, token)\n",
    "\n",
    "        if output == \"invalid response\":\n",
    "            time.sleep(2)\n",
    "            token1 = get_access_token()\n",
    "            output = call_gpt_with_prompt(system_content, user_content, token1)        \n",
    "\n",
    "        cleaned_output = output.strip().strip(\"'\").strip('\"')\n",
    "        if cleaned_output == 'Yes':\n",
    "            low_pd_df.loc[index, 'Volume'] = 'H'\n",
    "        elif cleaned_output == 'No':\n",
    "            low_pd_df.loc[index, 'Volume'] = 'L'\n",
    "        else:\n",
    "            low_pd_df.loc[index, 'Volume'] = f\"Output Format Error, Expected 'Yes' or 'No', Got: {output}\"       \n",
    "\n",
    "    return low_pd_df"
   ]
  },
  {
   "cell_type": "markdown",
   "id": "912bfa08-1521-4e19-b651-2decc412aa06",
   "metadata": {
    "jp-MarkdownHeadingCollapsed": true,
    "tags": []
   },
   "source": [
    "## Prompt Decomposition Level: High"
   ]
  },
  {
   "cell_type": "markdown",
   "id": "addce8d8-4382-4eb6-99ee-7f16f3c2cc41",
   "metadata": {},
   "source": [
    "Each dataframe row in high_pd_df represents information for one patient.\n",
    "\n",
    "<u>__Recommended dataframe columns__</u>\n",
    "\n",
    "__Patient MRN__: Patient identifier\n",
    "\n",
    "__Appended Eligible Rad Report Texts__: Complete eligible radiology report texts appended together (Index metastasis report text + text from subsequent eligible radiology reports within 30 days of index report)\n",
    "\n",
    "__Metastatic Sites: V&P__: JSON formatted list of each bone metastatic site within the vertebral column and pelvis, with respective number of lesions at each site. This is the first ouput returned by GPT-4 in this framework\n",
    "\n",
    "__Metastatic Sites: Outside V&P__: JSON formatted list of each bone metastatic site outside of the vertebral column and pelvis, with respective number of lesions at each site. This is the second ouput returned by GPT-4 in this framework\n",
    "\n",
    "__Metastatic Sites: Visceral__: JSON formatted list of each visceral metastatic site. This is the third output returned by GPT-4 in this framework\n",
    "\n",
    "__Volume__: Volume classification of metastatic disease (High or Low); This is the final output returned by GPT-4\n",
    "\n",
    "\n",
    "| Patient MRN | Appended Eligible Rad Report Texts | Metastatic Sites: V&P | Metastatic Sites: Outside V&P | Metastatic Sites: Visceral | Volume |\n",
    "|------|------|------|------|------|------|\n",
    "| XXXXXXX | \"Appended text here\" | {JSON formatted list of sites} | {JSON formatted list of sites} | {JSON formatted list of sites} | H or L |"
   ]
  },
  {
   "cell_type": "markdown",
   "id": "d99bc230-4bf8-44bd-8e34-c63ca676eceb",
   "metadata": {
    "tags": []
   },
   "source": [
    "### Prompt H1a - Identify sites of bone metastasis within the vertebral column and pelvis."
   ]
  },
  {
   "cell_type": "markdown",
   "id": "d5abefda-7c0a-49e8-8141-627ff6770b62",
   "metadata": {},
   "source": [
    "The run_high_pd_1a function uses GPT-4 to extract sites of bone metastasis within the vertebral column and pelvis, and the number of lesions at each site, from all eligible radiology reports."
   ]
  },
  {
   "cell_type": "code",
   "execution_count": null,
   "id": "43a333d3-76bf-4287-ad09-cee09853dc88",
   "metadata": {
    "tags": []
   },
   "outputs": [],
   "source": [
    "def run_high_pd_1a(high_pd_df):\n",
    "    token = get_access_token()    \n",
    "    for index, row in high_pd_df.iterrows():\n",
    "\n",
    "        report_string = row['Appended Eligible Rad Report Texts']\n",
    "\n",
    "        prompt_string = \"\"\"\n",
    "        Based on the provided radiology report(s), \n",
    "        TASK: \n",
    "        Firstly, identify only the sites of bone metastasis within the vertebral column and pelvis (v&p).\n",
    "        If there is general mention of diffuse skeletal metastases or diffuse osseous metastases throughout, then say \"diffuse skeletal metastasis\".\n",
    "        Important note: Do not include any bones within the skull (head), the ribs, the femoral head, and the femur.\n",
    "\n",
    "        Secondly, identify an integer number of metastatic lesions at each of these metastatic sites. \n",
    "        If the number of metastatic lesions is unclear but it is implied that there are multiple, then use 4.\n",
    "\n",
    "        Important note: Only include a site of metastasis if the report(s) indicate(s) a high or definite likelihood of metastasis to that site. \n",
    "        Do not include indeterminate sites of metastasis.\n",
    "\n",
    "        Output in JSON format: \n",
    "\n",
    "        {\n",
    "        \"v&p #1\": ___,\n",
    "        \"number of lesions in v&p #1\": ___\n",
    "        }\n",
    "\n",
    "        Example #1 of output: \n",
    "\n",
    "        {\n",
    "        \"v&p #1\": \"left iliac crest\",\n",
    "        \"number of lesions in v&p #1\": 4,\n",
    "        \"v&p #2\": \"T12 pedicle\",\n",
    "        \"number of lesions in v&p #2\": 2\n",
    "        }\n",
    "\n",
    "        Example #2 of output: \n",
    "\n",
    "        {\n",
    "        \"v&p #1\": \"diffuse skeletal metastasis\",\n",
    "        \"number of lesions in v&p #1\": 4\n",
    "        }\n",
    "\n",
    "        Example #3 of output: \n",
    "\n",
    "        {\n",
    "        \"v&p #1\": \"none\",\n",
    "        \"number of lesions in v&p #1\": 0\n",
    "        }\n",
    "\n",
    "        Do not include any other information, even the question string, in the response. Strictly follow the given output format in JSON.\n",
    "        \"\"\"\n",
    "\n",
    "        system_content = \"Being an oncologist with specific expertise in prostate cancer, \" \\\n",
    "        \"identify sites of bone metastasis within the vertebral column and pelvis.\" \n",
    "\n",
    "        user_content = \"Here is a compilation of one or more radiology reports from a patient with metastatic prostate cancer. \" \\\n",
    "        f\"Each individual report is separated by '----------': {report_string}. \" \\\n",
    "        f\"{prompt_string}\" \n",
    "\n",
    "        output = call_gpt_with_prompt(system_content, user_content, token)\n",
    "\n",
    "        if output == \"invalid response\":\n",
    "            time.sleep(2)\n",
    "            token1 = get_access_token()\n",
    "            output = call_gpt_with_prompt(system_content, user_content, token1)\n",
    "\n",
    "        high_pd_df.loc[index, 'Metastatic Sites: V&P'] = output  \n",
    "\n",
    "    return high_pd_df"
   ]
  },
  {
   "cell_type": "markdown",
   "id": "62dbc2b4-dbf5-4e44-9b3e-5f2b79795b92",
   "metadata": {
    "tags": []
   },
   "source": [
    "### Prompt H1b - Identify sites of bone metastasis outside of the vertebral column and pelvis."
   ]
  },
  {
   "cell_type": "markdown",
   "id": "b1417ff0-2ea2-4b22-8849-4cb0ffc52f2f",
   "metadata": {},
   "source": [
    "The run_high_pd_1b function uses GPT-4 to extract sites of bone metastasis outside of the vertebral column and pelvis, and the number of lesions at each site, from all eligible radiology reports."
   ]
  },
  {
   "cell_type": "code",
   "execution_count": null,
   "id": "d441f9a3-b844-4d3a-933c-5cd62742a169",
   "metadata": {
    "tags": []
   },
   "outputs": [],
   "source": [
    "def run_high_pd_1b(high_pd_df):\n",
    "    token = get_access_token()\n",
    "    for index, row in high_pd_df.iterrows():\n",
    "\n",
    "        report_string = row['Appended Eligible Rad Report Texts']\n",
    "\n",
    "        prompt_string = \"\"\"\n",
    "        Based on the provided radiology report(s), \n",
    "\n",
    "        Go step by step and eventually use the following output format in JSON:\n",
    "\n",
    "        {\n",
    "        \"outside v&p #1\": ___,\n",
    "        \"number of lesions outside v&p #1\": ___\n",
    "        }\n",
    "\n",
    "        Step 1: If the report(s) indicates extensive metastasis throughout most of the skeleton, then simply output 'diffuse skeletal metastasis' (use output example #1).\n",
    "        [Examples of phrases indicating extensive metastasis throughout most of the skeleton include: \n",
    "        'diffuse osseous metastases throughout the skeleton', 'innumerable foci of uptake in the skeleton', 'superscan apppearance',\n",
    "        'scattered sclerotic lesions throughout the skeleton', 'widespread osseous metastatic disease', 'uptake throughout the axial and appendicular skeleton', \n",
    "        'diffuse osteoblastic disease', 'extensive sclerotic osseous lesions', 'sclerosis throughout the visualized skeleton', 'widespread bone metastatic lesions']\n",
    "        Note: Even if the  exact locations of the metastasis is not specified, if the report(s) indicates extensive metastasis throughout most of the skeleton, \n",
    "        output \"diffuse skeletal metastasis\" (use output example #1).\n",
    "\n",
    "        Output example #1:\n",
    "\n",
    "        {\n",
    "        \"outside v&p #1\": \"diffuse skeletal metastasis\",\n",
    "        \"number of lesions outside v&p #1\": 4\n",
    "        }\n",
    "\n",
    "        Step 2: Otherwise, identify only the sites of bone metastasis outside of the vertebral column and pelvis (outside v&p).\n",
    "        Also, identify an integer number of metastatic lesions at each of these metastatic sites. \n",
    "        If the number of metastatic lesions is unclear but it is implied that there are multiple, then use 4 as the integer number of metastatic lesions.\n",
    "\n",
    "        Output example #2: \n",
    "\n",
    "        {\n",
    "        \"outside v&p #1\": \"left 6th rib\",\n",
    "        \"number of lesions outside v&p #1\": \"1\",\n",
    "        \"outside v&p #2\": \"humerus\",\n",
    "        \"number of lesions outside v&p #2\": 1\n",
    "        }\n",
    "\n",
    "        Important rules to follow:\n",
    "        Inclusion criteria\n",
    "        - Only include a site of bone metastasis outside of the vertebral column and pelvis if the report(s) strongly suggest metastasis to that site.\n",
    "\n",
    "        Exclusion criteria\n",
    "        - Do not include sites that are 'nonspecific' or 'indeterminate' for metastasis.\n",
    "        - Do not include sites with 'radiotracer uptake', 'focal uptake', 'focal activity', 'focal area of sclerosis' unless the report(s) strongly suggest metastasis to that site.\n",
    "        - Do not include sites that are fractures not from metastasis.\n",
    "        - Do not include any sites within the vertebral column and pelvis, such as C1-C7, T1-T12, L1-L5 or any pelvic bones.\n",
    "\n",
    "        If there is no bone metastasis outside the vertebral column and pelvis, follow output example #3.\n",
    "\n",
    "        Output example #3: \n",
    "\n",
    "        {\n",
    "        \"outside v&p #1\": \"none\",\n",
    "        \"number of lesions outside v&p #1\": 0\n",
    "        }\n",
    "\n",
    "        Do not include any other information, even the question string, in the response. Strictly follow the given output format in JSON.\n",
    "        \"\"\"\n",
    "\n",
    "        system_content = \"Being an oncologist with specific expertise in prostate cancer, \" \\\n",
    "        \"identify sites of bone metastasis outside of the vertebral column and pelvis.\" \n",
    "\n",
    "        user_content = \"Here is a compilation of one or more radiology reports from a patient with metastatic prostate cancer. \" \\\n",
    "        f\"Each individual report is separated by '----------': {report_string}. \" \\\n",
    "        f\"{prompt_string}\" \n",
    "\n",
    "        output = call_gpt_with_prompt(system_content, user_content, token)\n",
    "\n",
    "        if output == \"invalid response\":\n",
    "            time.sleep(2)\n",
    "            token1 = get_access_token()\n",
    "            output = call_gpt_with_prompt(system_content, user_content, token1)\n",
    "\n",
    "        high_pd_df.loc[index, 'Metastatic Sites: Outside V&P'] = output  \n",
    "\n",
    "    return high_pd_df"
   ]
  },
  {
   "cell_type": "markdown",
   "id": "5916d171-ae04-413c-a27a-9368c1d0f1a0",
   "metadata": {
    "tags": []
   },
   "source": [
    "### Prompt H1c - Identify sites of visceral metastasis outside of the vertebral column and pelvis."
   ]
  },
  {
   "cell_type": "markdown",
   "id": "3261ab1f-0440-4310-b545-baf755f0529f",
   "metadata": {},
   "source": [
    "The run_high_pd_1c function uses GPT-4 to extract sites of visceral metastasis from all eligible radiology reports."
   ]
  },
  {
   "cell_type": "code",
   "execution_count": null,
   "id": "6a1de028-c915-4a03-82eb-bb396a821725",
   "metadata": {
    "tags": []
   },
   "outputs": [],
   "source": [
    "def run_high_pd_1c(high_pd_df):\n",
    "    token = get_access_token()    \n",
    "    for index, row in high_pd_df.iterrows():\n",
    "\n",
    "        report_string = row['Appended Eligible Rad Report Texts']\n",
    "\n",
    "        prompt_string = \"\"\"\n",
    "        Based on the provided radiology report(s), \n",
    "        TASK: \n",
    "        Identify only the sites of distant visceral metastasis from prostate cancer.\n",
    "\n",
    "        Important notes:\n",
    "        - Only include a site of metastasis if the report(s) indicate(s) a high or definite likelihood of metastasis to that site. Do not include indeterminate sites of metastasis.\n",
    "        - Do not include lymph node metastasis.\n",
    "        - Disregard sites of regional visceral metastasis (such as the prostate, bladder, urethra, ureter, seminal vesicles, rectum).\n",
    "\n",
    "        Output in JSON format: \n",
    "\n",
    "        {\n",
    "        \"visceral #1\": ___\n",
    "        }\n",
    "\n",
    "        Example #1 of output: \n",
    "\n",
    "        {\n",
    "        \"visceral #1\": \"upper left lung\"\n",
    "        }\n",
    "\n",
    "        Example #2 of output: \n",
    "\n",
    "        {\n",
    "        \"visceral #1\": \"none\"\n",
    "        }\n",
    "\n",
    "        Example #3 of output: \n",
    "\n",
    "        {\n",
    "        \"visceral #1\": \"lower left lobe of lung\",\n",
    "        \"visceral #2\": \"right hepatic lobe\"\n",
    "        }\n",
    "\n",
    "        Do not include any other information, even the question string, in the response. Strictly follow the given output format in JSON.\n",
    "        \"\"\"\n",
    "\n",
    "        system_content = \"Being an oncologist with specific expertise in prostate cancer, \" \\\n",
    "        \"identify sites of visceral metastasis.\" \n",
    "\n",
    "        user_content = \"Here is a compilation of one or more radiology reports from a patient with metastatic prostate cancer. \" \\\n",
    "        f\"Each individual report is separated by '----------': {report_string}. \" \\\n",
    "        f\"{prompt_string}\" \n",
    "\n",
    "        output = call_gpt_with_prompt(system_content, user_content, token)\n",
    "\n",
    "        if output == \"invalid response\":\n",
    "            time.sleep(2)\n",
    "            token1 = get_access_token()\n",
    "            output = call_gpt_with_prompt(system_content, user_content, token1)\n",
    "\n",
    "        high_pd_df.loc[index, 'Metastatic Sites: Visceral'] = output  \n",
    "\n",
    "    return high_pd_df"
   ]
  },
  {
   "cell_type": "markdown",
   "id": "0785da6f-4a0e-4255-a39e-c5f49435ff24",
   "metadata": {
    "tags": []
   },
   "source": [
    "### Prompt H2 - Using metastatic sites outputted from H1a, H1b, and H1c, classify as high or low volume."
   ]
  },
  {
   "cell_type": "markdown",
   "id": "6cdab41e-3ba5-4a86-9574-eaf10940da5c",
   "metadata": {},
   "source": [
    "The run_high_pd_2 function uses GPT-4 to take in metastatic sites and number of lesions at each site outputted from prior prompts H1a, H1b, and H1c to make the final volume classification."
   ]
  },
  {
   "cell_type": "code",
   "execution_count": null,
   "id": "f6dd4717-5902-4cda-9273-a336a2d2cc48",
   "metadata": {
    "tags": []
   },
   "outputs": [],
   "source": [
    "def run_high_pd_2(high_pd_df):\n",
    "    token = get_access_token()\n",
    "    for index, row in high_pd_df.iterrows():\n",
    "\n",
    "        list1 = row['Metastatic Sites: Visceral']\n",
    "        list2 = row['Metastatic Sites: V&P']\n",
    "        list3 = row['Metastatic Sites: Outside V&P']\n",
    "\n",
    "        prompt_string = \"\"\"\n",
    "        TASK: Identify if the provided JSON-formatted lists of visceral metastatic sites and bone metastatic sites indicate evidence of high-volume metastatic disease from prostate cancer.\n",
    "        Go step by step, but only output 'Yes' or 'No' at the end without explaining the individual steps.\n",
    "\n",
    "        Step 1: Examine List 1 for \"visceral #1\": \"value\". If the value of \"visceral #1\" is a visceral site (such as lung, liver, spleen, adrenal gland, brain, peritoneum), output 'Yes' \n",
    "        and end the process. Skip remaining steps. \n",
    "        Otherwise, if the value of \"visceral #1\" is \"none\", proceed to Step 2.\n",
    "\n",
    "        Step 2: Add together all of the \"number of lesions in v&p #X\" values for List #2.\n",
    "\n",
    "        Step 3: Add together all of the \"number of lesions outside v&p #X\" values for List #3.\n",
    "\n",
    "        Step 4: If BOTH Condition A and Condition B are met [Condition A: the combined total number of lesions in List 2 + List 3 is at least 4, Condition B: the total number of lesions in List 3 is at least 1], output 'Yes' and end the process. Skip Step 5. \n",
    "        Otherwise, proceed to Step 5.\n",
    "        IMPORTANT: Carefully check for both Condition A and Condition B.\n",
    "\n",
    "        Step 5: Output 'No'.\n",
    "\n",
    "        Output format: 'Yes' or 'No'.\n",
    "        Do not include any other information, even the question string, in the response. Strictly follow the given output format.\n",
    "        \"\"\"\n",
    "        system_content = \"Being an oncologist with specific expertise in prostate cancer, \" \\\n",
    "        \"classify the volume of disease for a patient with high or low volume metastatic prostate cancer.\" \n",
    "        \n",
    "        user_content = \"Here are three JSON formatted lists of sites of metastasis - \" \\\n",
    "        f\"List 1 (visceral metastasis): {list1} \" \\\n",
    "        f\"List 2 (bone metastasis within vertebral column and pelvis (v&p)): {list2} \" \\\n",
    "        f\"List 3 (bone metastasis outside of the vertebral column and pelvis (outside v&p)): {list3} \" \\\n",
    "        \"from radiology reports of a patient with metastatic prostate cancer: \" \\\n",
    "        f\"{prompt_string}\"\n",
    "\n",
    "        output = call_gpt_with_prompt(system_content, user_content, token)\n",
    "\n",
    "        if output == \"invalid response\":\n",
    "            time.sleep(2)\n",
    "            token1 = get_access_token()\n",
    "            output = call_gpt_with_prompt(system_content, user_content, token1)   \n",
    "\n",
    "        cleaned_output = output.strip().strip(\"'\").strip('\"')\n",
    "        if cleaned_output == 'Yes':\n",
    "            high_pd_df.loc[index, 'Volume'] = 'H'\n",
    "        elif cleaned_output == 'No':\n",
    "            high_pd_df.loc[index, 'Volume'] = 'L'\n",
    "        else:\n",
    "            high_pd_df.loc[index, 'Volume'] = f\"Output Format Error, Expected 'Yes' or 'No', Got: {output}\"    \n",
    "\n",
    "    return high_pd_df"
   ]
  },
  {
   "cell_type": "markdown",
   "id": "02f94630-6997-4802-87aa-2254d4d944a2",
   "metadata": {
    "tags": []
   },
   "source": [
    "## Prompt Decomposition Level: High with Rule-Based Programming (RBP)"
   ]
  },
  {
   "cell_type": "markdown",
   "id": "d96dafd6-5d8f-4123-8e90-a7be14f8a3f7",
   "metadata": {},
   "source": [
    "Each dataframe row in high_pd_rbp_df represents information for one patient.\n",
    "\n",
    "<u>__Recommended dataframe columns (same as high PD)__</u>\n",
    "\n",
    "__Patient MRN__: Patient identifier\n",
    "\n",
    "__Appended Eligible Rad Report Texts__: Complete eligible radiology report texts appended together (Index metastasis report text + text from subsequent eligible radiology reports within 30 days of index report)\n",
    "\n",
    "__Metastatic Sites: V&P__: JSON formatted list of each bone metastatic site within the vertebral column and pelvis, with respective number of lesions at each site. This is the first ouput returned by GPT-4 in this framework\n",
    "\n",
    "__Metastatic Sites: Outside V&P__: JSON formatted list of each bone metastatic site outside of the vertebral column and pelvis, with respective number of lesions at each site. This is the second ouput returned by GPT-4 in this framework\n",
    "\n",
    "__Metastatic Sites: Visceral__: JSON formatted list of each visceral metastatic site. This is the third output returned by GPT-4 in this framework\n",
    "\n",
    "__Volume__: Volume classification of metastatic disease (High or Low); This is the final output returned by GPT-4\n",
    "\n",
    "\n",
    "| Patient MRN | Appended Eligible Rad Report Texts | Metastatic Sites: V&P | Metastatic Sites: Outside V&P | Metastatic Sites: Visceral | Volume |\n",
    "|------|------|------|------|------|------|\n",
    "| XXXXXXX | \"Appended text here\" | {JSON formatted list of sites} | {JSON formatted list of sites} | {JSON formatted list of sites} | H or L |"
   ]
  },
  {
   "cell_type": "markdown",
   "id": "27251f16-21b4-470c-a53b-1cd6ae7d0fc4",
   "metadata": {},
   "source": [
    "Note: In the \"High PD with RBP\" experimental framework, prompts H1a, H1b, and H1c from the \"High PD\" experimental framework remain the same. The change is solely in that prompt H2 is replaced by a RBP algorithm."
   ]
  },
  {
   "cell_type": "code",
   "execution_count": null,
   "id": "2a2c315b-a7bf-4e72-b801-f8c5c9910012",
   "metadata": {
    "tags": []
   },
   "outputs": [],
   "source": [
    "# is_none_value() checks if \"visceral #1\" has value of \"none\"\n",
    "def is_none_value(json_string):\n",
    "    data = json.loads(json_string) \n",
    "    return data.get(\"visceral #1\") == \"none\""
   ]
  },
  {
   "cell_type": "code",
   "execution_count": null,
   "id": "c97e1679-f154-4a7c-b495-12a764b8ab6c",
   "metadata": {
    "tags": []
   },
   "outputs": [],
   "source": [
    "# sum_lesions() finds the sum of number of metastatic lesions in a category\n",
    "def sum_lesions(json_string):\n",
    "    \n",
    "    # Parse the JSON string into a dictionary\n",
    "    data = json.loads(json_string)\n",
    "    \n",
    "    # Calculate the total lesions\n",
    "    total_lesions = sum(\n",
    "        4 if value == \"multiple\" else int(value)  # Map \"multiple\" to 4, otherwise convert to int\n",
    "        for key, value in data.items()\n",
    "        if key.startswith(\"number of lesions\")\n",
    "    )\n",
    "    \n",
    "    return total_lesions\n"
   ]
  },
  {
   "cell_type": "code",
   "execution_count": null,
   "id": "36134e4a-deea-4454-908a-fb3b5720cf7d",
   "metadata": {
    "tags": []
   },
   "outputs": [],
   "source": [
    "# extract_json() extracts a json formatted string within a string that may contain text outside of the json string\n",
    "def extract_json(text):\n",
    "    try:\n",
    "        # Regular expression to match JSON objects\n",
    "        json_pattern = r'\\{.*?\\}'\n",
    "        match = re.search(json_pattern, text, re.DOTALL)\n",
    "        if match:\n",
    "            # Extract the JSON string\n",
    "            json_string = match.group()\n",
    "            # Parse it to verify valid JSON\n",
    "            json_data = json.loads(json_string)\n",
    "            return json.dumps(json_data)\n",
    "        else:\n",
    "            return None\n",
    "    except json.JSONDecodeError:\n",
    "        return None"
   ]
  },
  {
   "cell_type": "markdown",
   "id": "5081faf5-ed39-42c4-89d3-3af05f202800",
   "metadata": {},
   "source": [
    "The run_rbp function uses a rule-based programming algorithm to take in metastatic sites and number of lesions at each site outputted from prior prompts H1a, H1b, and H1c to make the final volume classification."
   ]
  },
  {
   "cell_type": "code",
   "execution_count": null,
   "id": "de2b7f1e-459a-4c30-86c2-503d0e6792bd",
   "metadata": {
    "tags": []
   },
   "outputs": [],
   "source": [
    "def run_rbp(high_pd_df):\n",
    "    for index, row in high_pd_df.iterrows():   \n",
    "        patient_mrn = row['Patient MRN']\n",
    "        visceral = extract_json(row['Metastatic Sites: Visceral'])\n",
    "        vp = extract_json(row['Metastatic Sites: V&P'])\n",
    "        outside_vp = extract_json(row['Metastatic Sites: Outside V&P'])\n",
    "        \n",
    "        # First, check if there is a visceral metastatic site. If so, there is no need for further checks, and volume of disease is high.\n",
    "        if is_none_value(visceral) == False:\n",
    "            output = 'H'\n",
    "        \n",
    "        # Otherwise, if there are at least 4 total bone metastatic lesions with at least 1 of these being outside of the vertebral column and pelvis,\n",
    "        # then volume of disease is still high.\n",
    "        # Else, volume of disease is low.\n",
    "        else:\n",
    "            sum_lesions_vp = sum_lesions(vp)\n",
    "            sum_lesions_outside_vp = sum_lesions(outside_vp)\n",
    "            sum_lesions_bone = sum_lesions_vp + sum_lesions_outside_vp\n",
    "            if (sum_lesions_bone >= 4 and sum_lesions_outside_vp > 0):\n",
    "                output = 'H'\n",
    "            else:\n",
    "                output = 'L'\n",
    "        high_pd_df.loc[index, 'Volume'] = output\n",
    "    return high_pd_df"
   ]
  }
 ],
 "metadata": {
  "environment": {
   "kernel": "conda-base-py",
   "name": "workbench-notebooks.m127",
   "type": "gcloud",
   "uri": "us-docker.pkg.dev/deeplearning-platform-release/gcr.io/workbench-notebooks:m127"
  },
  "kernelspec": {
   "display_name": "Python 3 (ipykernel) (Local)",
   "language": "python",
   "name": "conda-base-py"
  },
  "language_info": {
   "codemirror_mode": {
    "name": "ipython",
    "version": 3
   },
   "file_extension": ".py",
   "mimetype": "text/x-python",
   "name": "python",
   "nbconvert_exporter": "python",
   "pygments_lexer": "ipython3",
   "version": "3.10.16"
  },
  "toc-showcode": false
 },
 "nbformat": 4,
 "nbformat_minor": 5
}
